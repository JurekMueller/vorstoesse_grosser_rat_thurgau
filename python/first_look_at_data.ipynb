{
 "cells": [
  {
   "cell_type": "markdown",
   "metadata": {},
   "source": [
    "# A first look at the data"
   ]
  },
  {
   "cell_type": "code",
   "execution_count": 9,
   "metadata": {},
   "outputs": [],
   "source": [
    "import pandas as pd\n",
    "import numpy as np\n",
    "from pathlib import Path\n",
    "import json"
   ]
  },
  {
   "cell_type": "markdown",
   "metadata": {},
   "source": [
    "Open questions:\n",
    "* How do I make sure that there are not two people who have the same name?\n",
    "    * Partei, Beruf, Ort, Fraktion, etc sind alle nicht eindeutig. Geb_jahr könte helfen, aber ist nicht für alle vorhanden..."
   ]
  },
  {
   "cell_type": "markdown",
   "metadata": {},
   "source": [
    "### 1. Simple metrics for the network"
   ]
  },
  {
   "cell_type": "markdown",
   "metadata": {},
   "source": [
    "**Load the data**"
   ]
  },
  {
   "cell_type": "code",
   "execution_count": 4,
   "metadata": {},
   "outputs": [],
   "source": [
    "file_abg = Path('../Daten_Thurgau/Mitglieder_GR_2008_2021.csv')\n",
    "file_vor = Path('../Daten_Thurgau/Vorstoesse_GR_ab_2012_Themen_def.csv')"
   ]
  },
  {
   "cell_type": "code",
   "execution_count": 5,
   "metadata": {},
   "outputs": [],
   "source": [
    "vor = pd.read_csv(file_vor,delimiter=';')\n",
    "abg = pd.read_csv(file_abg,delimiter=';')"
   ]
  },
  {
   "cell_type": "code",
   "execution_count": 6,
   "metadata": {},
   "outputs": [
    {
     "name": "stdout",
     "output_type": "stream",
     "text": [
      "Wir haben 275 unabhängige Abgeordnete seit 2012\n"
     ]
    }
   ],
   "source": [
    "abg_2012 = abg.loc[abg['Jahr']>=2012]\n",
    "abg_list = pd.unique(abg_2012['Vorname'] + ' ' + abg_2012['Name'])\n",
    "print(f'Wir haben {len(abg_list)} unabhängige Abgeordnete seit 2012') "
   ]
  },
  {
   "cell_type": "markdown",
   "metadata": {},
   "source": [
    "**Selecting a subset of Vorstösse**"
   ]
  },
  {
   "cell_type": "code",
   "execution_count": 7,
   "metadata": {},
   "outputs": [],
   "source": [
    "vor_use=vor\n",
    "# vor_use=vor[vor['VORSTOSSART_CODE'].isin([1,2,3,7])]"
   ]
  },
  {
   "cell_type": "code",
   "execution_count": 8,
   "metadata": {},
   "outputs": [],
   "source": [
    "vor_abg = vor_use[[f'VORSTOESSER_IN_{i}' for i in range(1,11)]]\n",
    "netzwerk = pd.DataFrame(columns=['Name','Colab','Vorst'])\n",
    "for name in abg_list: # loop over the abgeordneten\n",
    "    name_vorstoesse = [] # stores vorstoss indexes where this person was part of\n",
    "    name_colab = [] # stores names of colaborators\n",
    "    for i in vor_use.index: # loop over the vorstoesse\n",
    "        unterz = list(vor_abg.loc[i].dropna())\n",
    "        if name in unterz: # check if this person has supported the vorstoss\n",
    "            name_vorstoesse.append(i)\n",
    "            for u in unterz: # loop over unterzeichner\n",
    "                if u not in name_colab and u != name: name_colab.append((u))\n",
    "    netzwerk.loc[netzwerk.shape[0]] = [name,name_colab,name_vorstoesse]"
   ]
  },
  {
   "cell_type": "code",
   "execution_count": null,
   "metadata": {},
   "outputs": [],
   "source": [
    "# Form: \n",
    "vor_abg = vor_use[[f'VORSTOESSER_IN_{i}' for i in range(1,11)]]\n",
    "netzwerk = pd.DataFrame(columns=['Name','Colab','Vorst'])\n",
    "for name in abg_list: # loop over the abgeordneten\n",
    "    name_vorstoesse = [] # stores vorstoss indexes where this person was part of\n",
    "    name_colab = [] # stores names of colaborators\n",
    "    for i in vor_use.index: # loop over the vorstoesse\n",
    "        unterz = list(vor_abg.loc[i].dropna())\n",
    "        if name in unterz: # check if this person has supported the vorstoss\n",
    "            name_vorstoesse.append(i)\n",
    "            for u in unterz: # loop over unterzeichner\n",
    "                if u not in name_colab and u != name: name_colab.append((u))\n",
    "    netzwerk.loc[netzwerk.shape[0]] = [name,name_colab,name_vorstoesse]"
   ]
  },
  {
   "cell_type": "code",
   "execution_count": 112,
   "metadata": {},
   "outputs": [
    {
     "data": {
      "text/html": [
       "<div>\n",
       "<style scoped>\n",
       "    .dataframe tbody tr th:only-of-type {\n",
       "        vertical-align: middle;\n",
       "    }\n",
       "\n",
       "    .dataframe tbody tr th {\n",
       "        vertical-align: top;\n",
       "    }\n",
       "\n",
       "    .dataframe thead th {\n",
       "        text-align: right;\n",
       "    }\n",
       "</style>\n",
       "<table border=\"1\" class=\"dataframe\">\n",
       "  <thead>\n",
       "    <tr style=\"text-align: right;\">\n",
       "      <th></th>\n",
       "      <th>Name</th>\n",
       "      <th>Colab</th>\n",
       "      <th>Vorst</th>\n",
       "    </tr>\n",
       "  </thead>\n",
       "  <tbody>\n",
       "    <tr>\n",
       "      <th>0</th>\n",
       "      <td>Inge Abegglen</td>\n",
       "      <td>[Alex Frei, Hans Munz, Helen Jordi, Erwin Imhof]</td>\n",
       "      <td>[136]</td>\n",
       "    </tr>\n",
       "    <tr>\n",
       "      <th>1</th>\n",
       "      <td>Wolfgang Ackerknecht</td>\n",
       "      <td>[Peter Bühler, Max Möckli, Daniel Vetterli,  R...</td>\n",
       "      <td>[138, 273, 421, 428, 430, 535, 538, 606, 711]</td>\n",
       "    </tr>\n",
       "    <tr>\n",
       "      <th>2</th>\n",
       "      <td>Elsbeth Aepli Stettler</td>\n",
       "      <td>[Christian Koch, Marlies Näf, Walter Schönholz...</td>\n",
       "      <td>[39, 52]</td>\n",
       "    </tr>\n",
       "    <tr>\n",
       "      <th>3</th>\n",
       "      <td>Margrit Aerne</td>\n",
       "      <td>[Roland A. Huber, Cäcilia Bosshard, Turi Schal...</td>\n",
       "      <td>[116, 462]</td>\n",
       "    </tr>\n",
       "    <tr>\n",
       "      <th>4</th>\n",
       "      <td>Clemens Albrecht</td>\n",
       "      <td>[]</td>\n",
       "      <td>[]</td>\n",
       "    </tr>\n",
       "    <tr>\n",
       "      <th>...</th>\n",
       "      <td>...</td>\n",
       "      <td>...</td>\n",
       "      <td>...</td>\n",
       "    </tr>\n",
       "    <tr>\n",
       "      <th>270</th>\n",
       "      <td>David Zimmermann</td>\n",
       "      <td>[Hans Munz, Hanspeter Gantenbein, Josef Gemper...</td>\n",
       "      <td>[127, 402, 424, 467, 478, 491, 658, 699, 958, ...</td>\n",
       "    </tr>\n",
       "    <tr>\n",
       "      <th>271</th>\n",
       "      <td>Andreas Zuber</td>\n",
       "      <td>[Ruedi Zbinden]</td>\n",
       "      <td>[983]</td>\n",
       "    </tr>\n",
       "    <tr>\n",
       "      <th>272</th>\n",
       "      <td>Käthi Zürcher</td>\n",
       "      <td>[]</td>\n",
       "      <td>[]</td>\n",
       "    </tr>\n",
       "    <tr>\n",
       "      <th>273</th>\n",
       "      <td>Felix Züst</td>\n",
       "      <td>[]</td>\n",
       "      <td>[]</td>\n",
       "    </tr>\n",
       "    <tr>\n",
       "      <th>274</th>\n",
       "      <td>Fritz Zweifel</td>\n",
       "      <td>[Hanspeter Gantenbein, Fabienne Schnyder, Andr...</td>\n",
       "      <td>[257, 279, 328]</td>\n",
       "    </tr>\n",
       "  </tbody>\n",
       "</table>\n",
       "<p>275 rows × 3 columns</p>\n",
       "</div>"
      ],
      "text/plain": [
       "                       Name  \\\n",
       "0             Inge Abegglen   \n",
       "1      Wolfgang Ackerknecht   \n",
       "2    Elsbeth Aepli Stettler   \n",
       "3             Margrit Aerne   \n",
       "4          Clemens Albrecht   \n",
       "..                      ...   \n",
       "270        David Zimmermann   \n",
       "271           Andreas Zuber   \n",
       "272           Käthi Zürcher   \n",
       "273              Felix Züst   \n",
       "274           Fritz Zweifel   \n",
       "\n",
       "                                                 Colab  \\\n",
       "0     [Alex Frei, Hans Munz, Helen Jordi, Erwin Imhof]   \n",
       "1    [Peter Bühler, Max Möckli, Daniel Vetterli,  R...   \n",
       "2    [Christian Koch, Marlies Näf, Walter Schönholz...   \n",
       "3    [Roland A. Huber, Cäcilia Bosshard, Turi Schal...   \n",
       "4                                                   []   \n",
       "..                                                 ...   \n",
       "270  [Hans Munz, Hanspeter Gantenbein, Josef Gemper...   \n",
       "271                                    [Ruedi Zbinden]   \n",
       "272                                                 []   \n",
       "273                                                 []   \n",
       "274  [Hanspeter Gantenbein, Fabienne Schnyder, Andr...   \n",
       "\n",
       "                                                 Vorst  \n",
       "0                                                [136]  \n",
       "1        [138, 273, 421, 428, 430, 535, 538, 606, 711]  \n",
       "2                                             [39, 52]  \n",
       "3                                           [116, 462]  \n",
       "4                                                   []  \n",
       "..                                                 ...  \n",
       "270  [127, 402, 424, 467, 478, 491, 658, 699, 958, ...  \n",
       "271                                              [983]  \n",
       "272                                                 []  \n",
       "273                                                 []  \n",
       "274                                    [257, 279, 328]  \n",
       "\n",
       "[275 rows x 3 columns]"
      ]
     },
     "execution_count": 112,
     "metadata": {},
     "output_type": "execute_result"
    }
   ],
   "source": [
    "netzwerk\n"
   ]
  },
  {
   "cell_type": "markdown",
   "metadata": {},
   "source": [
    "**Check what is the mean, median, min, max connectivity**"
   ]
  },
  {
   "cell_type": "code",
   "execution_count": 114,
   "metadata": {},
   "outputs": [
    {
     "name": "stdout",
     "output_type": "stream",
     "text": [
      "Mean connectivity: 12.04\n",
      "Median connectivity: 6.0\n",
      "Max connectivity: 71\n"
     ]
    }
   ],
   "source": [
    "# Full network\n",
    "print('Mean connectivity:', netzwerk['Colab'].apply(len).mean())\n",
    "print('Median connectivity:', netzwerk['Colab'].apply(len).median())\n",
    "print('Max connectivity:', netzwerk['Colab'].apply(len).max())"
   ]
  },
  {
   "cell_type": "code",
   "execution_count": 26,
   "metadata": {},
   "outputs": [
    {
     "name": "stdout",
     "output_type": "stream",
     "text": [
      "Mean connectivity: 6.807272727272728\n",
      "Median connectivity: 3.0\n",
      "Max connectivity: 43\n"
     ]
    }
   ],
   "source": [
    "# Vorstösse 1,2,3,7 (without simple requests)\n",
    "print('Mean connectivity:', netzwerk['Colab'].apply(len).mean())\n",
    "print('Median connectivity:', netzwerk['Colab'].apply(len).median())\n",
    "print('Max connectivity:', netzwerk['Colab'].apply(len).max())"
   ]
  },
  {
   "cell_type": "code",
   "execution_count": 27,
   "metadata": {},
   "outputs": [
    {
     "data": {
      "text/plain": [
       "Name                                        Josef Gemperle\n",
       "Colab    [Toni Kappeler, Bernhard Wälti, Thomas Böhni, ...\n",
       "Vorst    [5, 12, 25, 32, 74, 86, 87, 105, 213, 240, 403...\n",
       "Name: 64, dtype: object"
      ]
     },
     "execution_count": 27,
     "metadata": {},
     "output_type": "execute_result"
    }
   ],
   "source": [
    "netzwerk.loc[netzwerk['Colab'].apply(len).idxmax()]"
   ]
  },
  {
   "cell_type": "markdown",
   "metadata": {},
   "source": [
    "Der Abgeornete mit den meisten Zusammenarbeiten ist Josef Gemperle von der CVP."
   ]
  },
  {
   "cell_type": "markdown",
   "metadata": {},
   "source": [
    "**Look at how often people collaborate**"
   ]
  },
  {
   "cell_type": "markdown",
   "metadata": {},
   "source": []
  },
  {
   "cell_type": "markdown",
   "metadata": {},
   "source": []
  }
 ],
 "metadata": {
  "interpreter": {
   "hash": "54d388af159db8d36d4976a548785c51b7f552d00ab9828d832acb9e307c6780"
  },
  "kernelspec": {
   "display_name": "Python 3.9.7 ('base')",
   "language": "python",
   "name": "python3"
  },
  "language_info": {
   "codemirror_mode": {
    "name": "ipython",
    "version": 3
   },
   "file_extension": ".py",
   "mimetype": "text/x-python",
   "name": "python",
   "nbconvert_exporter": "python",
   "pygments_lexer": "ipython3",
   "version": "3.9.7"
  },
  "orig_nbformat": 4
 },
 "nbformat": 4,
 "nbformat_minor": 2
}
