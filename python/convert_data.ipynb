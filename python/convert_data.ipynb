{
 "cells": [
  {
   "cell_type": "markdown",
   "metadata": {},
   "source": [
    "# Convert date to json file that can be used in visualisation"
   ]
  },
  {
   "cell_type": "code",
   "execution_count": 32,
   "metadata": {},
   "outputs": [],
   "source": [
    "import pandas as pd\n",
    "import numpy as np\n",
    "from pathlib import Path\n",
    "import itertools\n",
    "import json"
   ]
  },
  {
   "cell_type": "markdown",
   "metadata": {},
   "source": [
    "**Load the data**"
   ]
  },
  {
   "cell_type": "code",
   "execution_count": 33,
   "metadata": {},
   "outputs": [],
   "source": [
    "file_abg = Path('../Daten_Thurgau/Mitglieder_GR_2008_2021.csv')\n",
    "file_vor = Path('../Daten_Thurgau/Vorstoesse_GR_ab_2012_Themen_def.csv')"
   ]
  },
  {
   "cell_type": "code",
   "execution_count": 34,
   "metadata": {},
   "outputs": [],
   "source": [
    "vor = pd.read_csv(file_vor,delimiter=';')\n",
    "abg = pd.read_csv(file_abg,delimiter=';')"
   ]
  },
  {
   "cell_type": "markdown",
   "metadata": {},
   "source": [
    "**Nodes**"
   ]
  },
  {
   "cell_type": "code",
   "execution_count": 50,
   "metadata": {},
   "outputs": [
    {
     "name": "stdout",
     "output_type": "stream",
     "text": [
      "Wir haben 264 unabhängige Abgeordnete seit 2012\n"
     ]
    }
   ],
   "source": [
    "# select only the data after 2012\n",
    "vor_2012 = vor[vor.loc[vor['DATUM_VORSTOSS_EINGANG'].str[-4:] == '2012'].index[0]:]\n",
    "# exclude Initiativen because they do not come from the parlamentarians and thus do not have any singers\n",
    "vor_2012 = vor_2012[vor_2012['VORSTOSSART_CODE']!=6]\n",
    "# filter duplicates (Manche sind doppelt (einmal vor einmal nach beschluss)). Take last\n",
    "vor_2012 = vor_2012.drop_duplicates(subset=['GRG_NR','DATUM_VORSTOSS_EINGANG'],keep='last')\n",
    "# List with only the names of the signers\n",
    "vor_untz = vor_2012[[f'VORSTOESSER_IN_{i}' for i in range(1,11)]]\n",
    "\n",
    "abg_2012 = abg.loc[abg['Jahr']>=2012]\n",
    "# Build a list of (mostly) unique parlamentarians\n",
    "abg_list = abg_2012.drop(['Geb_Jahr','Beruf','Fraktion','GR_Eintritt','Ort','Bezirk'],axis=1).drop_duplicates(ignore_index=True)\n",
    "abg_list_years = abg_list.groupby(['Name','Vorname','Geschlecht']).size().reset_index(name='Dienstjahre') # Zählt Dienstjahre\n",
    "# For those who changed party (only 3 since 2012) take tha last entry\n",
    "abg_list = abg_list.drop('Jahr',axis=1).drop_duplicates(subset=['Name','Vorname','Geschlecht'], keep='last', ignore_index=True)\n",
    "abg_list = abg_list.merge(abg_list_years)\n",
    "\n",
    "print(f'Wir haben {len(abg_list)} unabhängige Abgeordnete seit 2012') "
   ]
  },
  {
   "cell_type": "code",
   "execution_count": 51,
   "metadata": {},
   "outputs": [],
   "source": [
    "nodes = [dict(id=i,Name=abg_list['Vorname'].loc[i] + ' ' + abg_list['Name'].loc[i],\n",
    "              Geschlecht=abg_list['Geschlecht'].loc[i],\n",
    "              Partei=abg_list['Partei'].loc[i],\n",
    "              Dienstjahre=int(abg_list['Dienstjahre'].loc[i]),\n",
    "              Vorstösse=[dict(id=v, # for some reason this is numpy int which is not recognized by json\n",
    "                            Name=vor_2012.loc[v]['VORSTOSS_BEZEICHNUNG'],\n",
    "                            Type=int(vor_2012.loc[v]['VORSTOSSART_CODE']),\n",
    "                            Thema=list(vor_2012.loc[v][['Thema_1','Thema_2','Thema_3']].dropna()),\n",
    "              ) for v in vor_2012.index if abg_list['Vorname'].loc[i] + ' ' + abg_list['Name'].loc[i] in list(vor_untz.loc[v].dropna())]) for i in abg_list.index]\n",
    "name_to_id = {n['Name']:n['id'] for n in nodes}"
   ]
  },
  {
   "cell_type": "markdown",
   "metadata": {},
   "source": [
    "**Links**"
   ]
  },
  {
   "cell_type": "code",
   "execution_count": 52,
   "metadata": {},
   "outputs": [],
   "source": [
    "# Auslesen der Unterzeichner:innen\n",
    "links_list=None\n",
    "for i,vor_idx in enumerate(vor_untz.index):\n",
    "    # Sortieren um jede Verbindung nur einmal zu haben (a,b) vs (b,a)\n",
    "    vor_untz_i = sorted(list(vor_untz.loc[vor_idx].dropna()))\n",
    "    # Erstellen einer lister aller Kombinationen\n",
    "    vor_untz_i_links = list(itertools.combinations(vor_untz_i, 2))\n",
    "    for l,link in enumerate(vor_untz_i_links):\n",
    "        # convertin Names to ids\n",
    "        link = [name_to_id[link[0]],name_to_id[link[1]]]\n",
    "        # initialize links_list\n",
    "        if links_list is None:\n",
    "            links_list=[[link,[dict(id=vor_idx, # for some reason this is numpy int which is not recognized by json\n",
    "                                    Name=vor_2012.loc[vor_idx]['VORSTOSS_BEZEICHNUNG'],\n",
    "                                    Type=int(vor_2012.loc[vor_idx]['VORSTOSSART_CODE']),\n",
    "                                    Thema=list(vor_2012.loc[vor_idx][['Thema_1','Thema_2','Thema_3']].dropna()),\n",
    "                                    )]]]\n",
    "        # add link if not present\n",
    "        elif link not in [link[0] for link in links_list]:\n",
    "            links_list.append([link,[dict(id=vor_idx,\n",
    "                                    Name=vor_2012.loc[vor_idx]['VORSTOSS_BEZEICHNUNG'],\n",
    "                                    Type=int(vor_2012.loc[vor_idx]['VORSTOSSART_CODE']),\n",
    "                                    Thema=list(vor_2012.loc[vor_idx][['Thema_1','Thema_2','Thema_3']].dropna()),\n",
    "                                    )]])\n",
    "        # if present append id of the vorstoss\n",
    "        else:\n",
    "            links_list[[link[0] for link in links_list].index(link)][1].append(dict(id=vor_idx,\n",
    "                                    Name=vor_2012.loc[vor_idx]['VORSTOSS_BEZEICHNUNG'],\n",
    "                                    Type=int(vor_2012.loc[vor_idx]['VORSTOSSART_CODE']),\n",
    "                                    Thema=list(vor_2012.loc[vor_idx][['Thema_1','Thema_2','Thema_3']].dropna()),\n",
    "                                    ))"
   ]
  },
  {
   "cell_type": "code",
   "execution_count": 53,
   "metadata": {},
   "outputs": [],
   "source": [
    "links = [dict(source=links_list[i][0][0],target=links_list[i][0][1],value=links_list[i][1]) for i in range(len(links_list))]"
   ]
  },
  {
   "cell_type": "markdown",
   "metadata": {},
   "source": [
    "**Save json file**"
   ]
  },
  {
   "cell_type": "code",
   "execution_count": 54,
   "metadata": {},
   "outputs": [],
   "source": [
    "netzwerk = dict(nodes=nodes,links=links)\n",
    "with open(\"../Daten_Thurgau/netzwerk.json\", \"w\") as file:\n",
    "   json.dump(netzwerk, file)"
   ]
  },
  {
   "cell_type": "code",
   "execution_count": 55,
   "metadata": {},
   "outputs": [],
   "source": [
    "subjects=sorted(pd.concat([vor_2012['Thema_1'],vor_2012['Thema_2'],vor_2012['Thema_3']]).dropna().drop_duplicates())\n",
    "subjects=[dict(name=s,value=s) for s in subjects]\n",
    "with open(\"../Daten_Thurgau/subjects.json\", \"w\") as file:\n",
    "   json.dump(subjects, file)"
   ]
  },
  {
   "cell_type": "code",
   "execution_count": null,
   "metadata": {},
   "outputs": [],
   "source": []
  },
  {
   "cell_type": "code",
   "execution_count": 3,
   "metadata": {},
   "outputs": [
    {
     "data": {
      "text/html": [
       "<svg  width=\"550\" height=\"55\"><rect x=\"0\" y=\"0\" width=\"55\" height=\"55\" style=\"fill:#e5eff9;stroke-width:2;stroke:rgb(255,255,255)\"/><rect x=\"55\" y=\"0\" width=\"55\" height=\"55\" style=\"fill:#d3e4f3;stroke-width:2;stroke:rgb(255,255,255)\"/><rect x=\"110\" y=\"0\" width=\"55\" height=\"55\" style=\"fill:#bfd8ed;stroke-width:2;stroke:rgb(255,255,255)\"/><rect x=\"165\" y=\"0\" width=\"55\" height=\"55\" style=\"fill:#a1cbe2;stroke-width:2;stroke:rgb(255,255,255)\"/><rect x=\"220\" y=\"0\" width=\"55\" height=\"55\" style=\"fill:#7db8da;stroke-width:2;stroke:rgb(255,255,255)\"/><rect x=\"275\" y=\"0\" width=\"55\" height=\"55\" style=\"fill:#5ca4d0;stroke-width:2;stroke:rgb(255,255,255)\"/><rect x=\"330\" y=\"0\" width=\"55\" height=\"55\" style=\"fill:#3f8fc5;stroke-width:2;stroke:rgb(255,255,255)\"/><rect x=\"385\" y=\"0\" width=\"55\" height=\"55\" style=\"fill:#2676b8;stroke-width:2;stroke:rgb(255,255,255)\"/><rect x=\"440\" y=\"0\" width=\"55\" height=\"55\" style=\"fill:#135fa7;stroke-width:2;stroke:rgb(255,255,255)\"/><rect x=\"495\" y=\"0\" width=\"55\" height=\"55\" style=\"fill:#08488e;stroke-width:2;stroke:rgb(255,255,255)\"/></svg>"
      ],
      "text/plain": [
       "['#e5eff9',\n",
       " '#d3e4f3',\n",
       " '#bfd8ed',\n",
       " '#a1cbe2',\n",
       " '#7db8da',\n",
       " '#5ca4d0',\n",
       " '#3f8fc5',\n",
       " '#2676b8',\n",
       " '#135fa7',\n",
       " '#08488e']"
      ]
     },
     "execution_count": 3,
     "metadata": {},
     "output_type": "execute_result"
    }
   ],
   "source": [
    "import seaborn as sns\n",
    "sns.color_palette('Blues',10).as_hex()"
   ]
  },
  {
   "cell_type": "code",
   "execution_count": 29,
   "metadata": {},
   "outputs": [
    {
     "name": "stdout",
     "output_type": "stream",
     "text": [
      "['#b8b7d9', '#aaa7d0', '#9c97c8', '#8e86bf', '#8076b7', '#7269a7', '#665e90', '#595378', '#4c4861', '#403e4a']\n"
     ]
    }
   ],
   "source": [
    "print(sns.color_palette('Purples_d',10).as_hex())"
   ]
  },
  {
   "cell_type": "code",
   "execution_count": 2,
   "metadata": {},
   "outputs": [
    {
     "name": "stdout",
     "output_type": "stream",
     "text": [
      "['#96c3df', '#81b5d8', '#6ca8d1', '#569bca', '#418ec4', '#377fb4', '#36709a', '#35607f', '#345166', '#34424c']\n"
     ]
    }
   ],
   "source": [
    "print(sns.color_palette('Blues_d',10).as_hex())"
   ]
  },
  {
   "cell_type": "code",
   "execution_count": 57,
   "metadata": {},
   "outputs": [
    {
     "data": {
      "text/plain": [
       "3                 Arbon\n",
       "15           Frauenfeld\n",
       "33           Lanterswil\n",
       "45            Eschlikon\n",
       "46             Dussnang\n",
       "             ...       \n",
       "1731    St. Margarethen\n",
       "1735         Weingarten\n",
       "1744            Mettlen\n",
       "1766          Birwinken\n",
       "1772            Braunau\n",
       "Name: Ort, Length: 105, dtype: object"
      ]
     },
     "execution_count": 57,
     "metadata": {},
     "output_type": "execute_result"
    }
   ],
   "source": [
    "abg_2012['Ort'].drop_duplicates()"
   ]
  },
  {
   "cell_type": "code",
   "execution_count": 58,
   "metadata": {},
   "outputs": [
    {
     "data": {
      "text/plain": [
       "3             Arbon\n",
       "15       Frauenfeld\n",
       "33       Weinfelden\n",
       "45       Münchwilen\n",
       "57     Bischofszell\n",
       "65      Kreuzlingen\n",
       "143       Steckborn\n",
       "333    Diessenhofen\n",
       "Name: Bezirk, dtype: object"
      ]
     },
     "execution_count": 58,
     "metadata": {},
     "output_type": "execute_result"
    }
   ],
   "source": [
    "abg_2012['Bezirk'].drop_duplicates()"
   ]
  },
  {
   "cell_type": "code",
   "execution_count": null,
   "metadata": {},
   "outputs": [],
   "source": []
  }
 ],
 "metadata": {
  "interpreter": {
   "hash": "54d388af159db8d36d4976a548785c51b7f552d00ab9828d832acb9e307c6780"
  },
  "kernelspec": {
   "display_name": "Python 3.9.7 ('base')",
   "language": "python",
   "name": "python3"
  },
  "language_info": {
   "codemirror_mode": {
    "name": "ipython",
    "version": 3
   },
   "file_extension": ".py",
   "mimetype": "text/x-python",
   "name": "python",
   "nbconvert_exporter": "python",
   "pygments_lexer": "ipython3",
   "version": "3.9.7"
  },
  "orig_nbformat": 4
 },
 "nbformat": 4,
 "nbformat_minor": 2
}
