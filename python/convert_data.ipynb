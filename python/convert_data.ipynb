{
 "cells": [
  {
   "cell_type": "markdown",
   "metadata": {},
   "source": [
    "# Convert date to json file that can be used in visualisation"
   ]
  },
  {
   "cell_type": "code",
   "execution_count": 1,
   "metadata": {},
   "outputs": [],
   "source": [
    "import pandas as pd\n",
    "import numpy as np\n",
    "from pathlib import Path\n",
    "import itertools\n",
    "import json"
   ]
  },
  {
   "cell_type": "markdown",
   "metadata": {},
   "source": [
    "**Load the data**"
   ]
  },
  {
   "cell_type": "code",
   "execution_count": 2,
   "metadata": {},
   "outputs": [],
   "source": [
    "file_abg = Path('../Daten_Thurgau/Mitglieder_GR_2008_2021.csv')\n",
    "file_vor = Path('../Daten_Thurgau/Vorstoesse_GR_ab_2012_Themen_def.csv')"
   ]
  },
  {
   "cell_type": "code",
   "execution_count": 3,
   "metadata": {},
   "outputs": [],
   "source": [
    "vor = pd.read_csv(file_vor,delimiter=';')\n",
    "abg = pd.read_csv(file_abg,delimiter=';')"
   ]
  },
  {
   "cell_type": "markdown",
   "metadata": {},
   "source": [
    "**Nodes**"
   ]
  },
  {
   "cell_type": "code",
   "execution_count": 4,
   "metadata": {},
   "outputs": [
    {
     "name": "stdout",
     "output_type": "stream",
     "text": [
      "Wir haben 269 unabhängige Abgeordnete seit 2012\n"
     ]
    }
   ],
   "source": [
    "# select only the data after 2012\n",
    "abg_2012 = abg.loc[abg['Jahr']>=2012]\n",
    "vor_2012 = vor[vor.loc[vor['DATUM_VORSTOSS_EINGANG'].str[-4:] == '2012'].index[0]:]\n",
    "# abg_list = pd.unique(abg_2012['Vorname'] + ' ' + abg_2012['Name'])\n",
    "abg_list = abg_2012.drop(['Jahr','Geb_Jahr','Beruf','Fraktion','GR_Eintritt','Ort','Bezirk','Partei'],axis=1).drop_duplicates(ignore_index=True)\n",
    "print(f'Wir haben {len(abg_list)} unabhängige Abgeordnete seit 2012') "
   ]
  },
  {
   "cell_type": "code",
   "execution_count": 5,
   "metadata": {},
   "outputs": [],
   "source": [
    "nodes = [dict(id=i,Name=abg_list['Vorname'].loc[i] + ' ' + abg_list['Name'].loc[i],Geschlecht=abg_list['Geschlecht'].loc[i]) for i in abg_list.index]\n",
    "name_to_id = {n['Name']:n['id'] for n in nodes}"
   ]
  },
  {
   "cell_type": "markdown",
   "metadata": {},
   "source": [
    "**Links**"
   ]
  },
  {
   "cell_type": "code",
   "execution_count": 15,
   "metadata": {},
   "outputs": [],
   "source": [
    "# Auslesen der Unterzeichner:innen\n",
    "links_list=None\n",
    "vor_untz = vor_2012[[f'VORSTOESSER_IN_{i}' for i in range(1,11)]]\n",
    "for i,vor_idx in enumerate(vor_untz.index):\n",
    "    # Sortieren um jede Verbindung nur einmal zu haben (a,b) vs (b,a)\n",
    "    vor_untz_i = sorted(list(vor_untz.loc[vor_idx].dropna()))\n",
    "    # Erstellen einer lister aller Kombinationen\n",
    "    vor_untz_i_links = list(itertools.combinations(vor_untz_i, 2))\n",
    "    for l,link in enumerate(vor_untz_i_links):\n",
    "        # convertin Names to ids\n",
    "        link = [name_to_id[link[0]],name_to_id[link[1]]]\n",
    "        # initialize links_list\n",
    "        if links_list is None:\n",
    "            links_list=[[link,[vor_idx]]]\n",
    "        # add link if not present\n",
    "        elif link not in [link[0] for link in links_list]:\n",
    "            links_list.append([link,[vor_idx]])\n",
    "        # if present append id of the vorstoss\n",
    "        else:\n",
    "            links_list[[link[0] for link in links_list].index(link)][1].append(vor_idx)"
   ]
  },
  {
   "cell_type": "code",
   "execution_count": 16,
   "metadata": {},
   "outputs": [],
   "source": [
    "links = [dict(source=links_list[i][0][0],target=links_list[i][0][1],value=links_list[i][1]) for i in abg_list.index]"
   ]
  },
  {
   "cell_type": "markdown",
   "metadata": {},
   "source": [
    "**Save json file**"
   ]
  },
  {
   "cell_type": "code",
   "execution_count": 22,
   "metadata": {},
   "outputs": [],
   "source": [
    "netzwerk = dict(nodes=nodes,links=links)\n",
    "with open(\"../Daten_Thurgau/netzwerk.json\", \"w\") as file:\n",
    "   json.dump(netzwerk, file)"
   ]
  }
 ],
 "metadata": {
  "interpreter": {
   "hash": "54d388af159db8d36d4976a548785c51b7f552d00ab9828d832acb9e307c6780"
  },
  "kernelspec": {
   "display_name": "Python 3.9.7 ('base')",
   "language": "python",
   "name": "python3"
  },
  "language_info": {
   "codemirror_mode": {
    "name": "ipython",
    "version": 3
   },
   "file_extension": ".py",
   "mimetype": "text/x-python",
   "name": "python",
   "nbconvert_exporter": "python",
   "pygments_lexer": "ipython3",
   "version": "3.9.7"
  },
  "orig_nbformat": 4
 },
 "nbformat": 4,
 "nbformat_minor": 2
}
